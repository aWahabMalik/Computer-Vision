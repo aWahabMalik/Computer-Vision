{
 "cells": [
  {
   "cell_type": "code",
   "execution_count": 7,
   "id": "3dc60f3e",
   "metadata": {},
   "outputs": [
    {
     "ename": "TypeError",
     "evalue": "random() got an unexpected keyword argument 'namae'",
     "output_type": "error",
     "traceback": [
      "\u001b[1;31m---------------------------------------------------------------------------\u001b[0m",
      "\u001b[1;31mTypeError\u001b[0m                                 Traceback (most recent call last)",
      "\u001b[1;32mC:\\Users\\ABDULW~1\\AppData\\Local\\Temp/ipykernel_10012/1822586780.py\u001b[0m in \u001b[0;36m<module>\u001b[1;34m\u001b[0m\n\u001b[0;32m      4\u001b[0m \u001b[1;33m\u001b[0m\u001b[0m\n\u001b[0;32m      5\u001b[0m \u001b[1;33m\u001b[0m\u001b[0m\n\u001b[1;32m----> 6\u001b[1;33m \u001b[0mrandom\u001b[0m\u001b[1;33m(\u001b[0m\u001b[0mnamae\u001b[0m \u001b[1;33m=\u001b[0m \u001b[1;34m\"asasdasd\"\u001b[0m\u001b[1;33m,\u001b[0m \u001b[0misd\u001b[0m \u001b[1;33m=\u001b[0m\u001b[1;34m\"25\"\u001b[0m\u001b[1;33m)\u001b[0m\u001b[1;33m\u001b[0m\u001b[1;33m\u001b[0m\u001b[0m\n\u001b[0m",
      "\u001b[1;31mTypeError\u001b[0m: random() got an unexpected keyword argument 'namae'"
     ]
    }
   ],
   "source": [
    "def random(*args):\n",
    "    for i in args:\n",
    "        print(i)\n",
    "        \n",
    "\n",
    "random(namae = \"asasdasd\", isd =\"25\")"
   ]
  },
  {
   "cell_type": "code",
   "execution_count": 8,
   "id": "9224bc63",
   "metadata": {},
   "outputs": [
    {
     "data": {
      "text/plain": [
       "{'First': 1, 'Second': 2, 'Third': 3}"
      ]
     },
     "execution_count": 8,
     "metadata": {},
     "output_type": "execute_result"
    }
   ],
   "source": [
    "dic = dict([('First',1), ('Second',2), ('Third',3)])\n",
    "dic"
   ]
  },
  {
   "cell_type": "code",
   "execution_count": 11,
   "id": "e30426b7",
   "metadata": {},
   "outputs": [
    {
     "data": {
      "text/plain": [
       "4"
      ]
     },
     "execution_count": 11,
     "metadata": {},
     "output_type": "execute_result"
    }
   ],
   "source": [
    "dic2 = {'subject':{'Class':{'science':3, 'History': 4}}}\n",
    "dic2['subject']['Class']['History']"
   ]
  },
  {
   "cell_type": "code",
   "execution_count": 13,
   "id": "f8f04798",
   "metadata": {},
   "outputs": [
    {
     "name": "stdout",
     "output_type": "stream",
     "text": [
      "My naem\n"
     ]
    }
   ],
   "source": [
    "s = \"My naeme\"\n",
    "print(s[:-1])"
   ]
  },
  {
   "cell_type": "code",
   "execution_count": 14,
   "id": "43002dbd",
   "metadata": {},
   "outputs": [
    {
     "name": "stdout",
     "output_type": "stream",
     "text": [
      "15\n"
     ]
    }
   ],
   "source": [
    "def first(a,b):\n",
    "    def second(c,d):\n",
    "        return c+d\n",
    "    \n",
    "    return second(a,b)\n",
    "    return a\n",
    "\n",
    "\n",
    "print(first(5,10))"
   ]
  },
  {
   "cell_type": "code",
   "execution_count": null,
   "id": "a7896284",
   "metadata": {},
   "outputs": [],
   "source": []
  }
 ],
 "metadata": {
  "kernelspec": {
   "display_name": "Python 3 (ipykernel)",
   "language": "python",
   "name": "python3"
  },
  "language_info": {
   "codemirror_mode": {
    "name": "ipython",
    "version": 3
   },
   "file_extension": ".py",
   "mimetype": "text/x-python",
   "name": "python",
   "nbconvert_exporter": "python",
   "pygments_lexer": "ipython3",
   "version": "3.9.7"
  }
 },
 "nbformat": 4,
 "nbformat_minor": 5
}
